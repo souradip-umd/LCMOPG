{
 "cells": [
  {
   "cell_type": "code",
   "execution_count": 1,
   "id": "d3183543",
   "metadata": {},
   "outputs": [
    {
     "name": "stderr",
     "output_type": "stream",
     "text": [
      "<ipython-input-1-6d0fa4db7acd>:6: MatplotlibDeprecationWarning: The seaborn styles shipped by Matplotlib are deprecated since 3.6, as they no longer correspond to the styles shipped by seaborn. However, they will remain available as 'seaborn-v0_8-<style>'. Alternatively, directly use the seaborn API instead.\n",
      "  plt.style.use('seaborn-white')\n"
     ]
    }
   ],
   "source": [
    "import numpy as np\n",
    "np.set_printoptions(suppress=True)\n",
    "import matplotlib.pyplot as plt\n",
    "%matplotlib inline\n",
    "import pickle\n",
    "plt.style.use('seaborn-white')"
   ]
  },
  {
   "cell_type": "code",
   "execution_count": 2,
   "id": "2b27ab14",
   "metadata": {},
   "outputs": [],
   "source": [
    "import morl\n",
    "from env_LQG import LQG"
   ]
  },
  {
   "cell_type": "code",
   "execution_count": null,
   "id": "e38d6ae7",
   "metadata": {},
   "outputs": [],
   "source": []
  },
  {
   "cell_type": "code",
   "execution_count": 3,
   "id": "8fd662c9",
   "metadata": {},
   "outputs": [],
   "source": [
    "J_au = np.asarray([-500.0] * 3) \n",
    "J_u = np.asarray([-150.0] * 3)"
   ]
  },
  {
   "cell_type": "code",
   "execution_count": null,
   "id": "d230d64d",
   "metadata": {},
   "outputs": [],
   "source": []
  },
  {
   "cell_type": "markdown",
   "id": "09ee634c",
   "metadata": {},
   "source": [
    "use_B = False"
   ]
  },
  {
   "cell_type": "code",
   "execution_count": 37,
   "id": "648024db",
   "metadata": {
    "tags": []
   },
   "outputs": [],
   "source": [
    "def main(n_obj: int, c_dim: int, n_rep: int, name: str = None):\n",
    "    for i in range(1, 1 + n_rep):\n",
    "        \n",
    "        np.random.seed(i)\n",
    "        \n",
    "        policy = morl.make_policy_net(state_dim=n_obj, \n",
    "                                      hidden_dim=30, \n",
    "                                      act_space=('continuous', n_obj), \n",
    "                                      c_dim=c_dim, \n",
    "                                      seed=i,\n",
    "                                      embed_dims=None, \n",
    "                                      std=0.2).to(morl.DEVICE)\n",
    "        \n",
    "        out = morl.learn(policy=policy, \n",
    "                         gradient_steps=800, \n",
    "                         n_grad_repeat=1, \n",
    "                         group_size_train=300, \n",
    "                         group_size_test=300, \n",
    "                         env=LQG(n_obj=n_obj, noise_std=0, a_max=10, normalizer=lambda x: x / 5.0 - 1.0), \n",
    "                         n_obj=n_obj, \n",
    "                         test_repeat=1, \n",
    "                         n_jobs=15, \n",
    "                         ep_len_train=30, \n",
    "                         ep_len_test=30, \n",
    "                         nn_k=3, \n",
    "                         beta=10.0, \n",
    "                         J_AU=J_au, \n",
    "                         J_U=J_u, \n",
    "                         gamma_train=0.9, \n",
    "                         gamma_test=0.9, \n",
    "                         mode='median', \n",
    "                         score_clipped_above_zero=True,\n",
    "                         use_QV=False, \n",
    "                         QV_params=None\n",
    "                        )\n",
    "        if name is None:\n",
    "            with open('out_{}.pkl'.format(i), 'wb') as f:\n",
    "                pickle.dump(out, f)\n",
    "        else:\n",
    "            with open('out_{}_{}.pkl'.format(name, i), 'wb') as f:\n",
    "                pickle.dump(out, f)"
   ]
  },
  {
   "cell_type": "code",
   "execution_count": null,
   "id": "d2a11e96",
   "metadata": {},
   "outputs": [],
   "source": []
  },
  {
   "cell_type": "markdown",
   "id": "2271c3bd",
   "metadata": {},
   "source": [
    "# c_dim $\\in\\{1, 2, 3\\}$"
   ]
  },
  {
   "cell_type": "code",
   "execution_count": null,
   "id": "64bdf478",
   "metadata": {
    "tags": []
   },
   "outputs": [],
   "source": [
    "%%time\n",
    "main(n_obj=3, n_rep=5, c_dim=3, name='cdim=3')"
   ]
  },
  {
   "cell_type": "code",
   "execution_count": null,
   "id": "07f891c8",
   "metadata": {
    "tags": []
   },
   "outputs": [],
   "source": [
    "%%time\n",
    "main(n_obj=3, n_rep=5, c_dim=2, name='cdim=2')"
   ]
  },
  {
   "cell_type": "code",
   "execution_count": null,
   "id": "5718e404",
   "metadata": {
    "tags": []
   },
   "outputs": [],
   "source": [
    "%%time\n",
    "main(n_obj=3, n_rep=5, c_dim=1, name='cdim=1')"
   ]
  },
  {
   "cell_type": "code",
   "execution_count": 4,
   "id": "9215bc53",
   "metadata": {},
   "outputs": [],
   "source": [
    "out_cdim_1 = []\n",
    "for i in range(1, 6):\n",
    "    with open('out_cdim=1_{}.pkl'.format(i), 'rb') as f:\n",
    "        out_cdim_1 += [pickle.load(f)]\n",
    "        \n",
    "out_cdim_2 = []\n",
    "for i in range(1, 6):\n",
    "    with open('out_cdim=2_{}.pkl'.format(i), 'rb') as f:\n",
    "        out_cdim_2 += [pickle.load(f)]\n",
    "        \n",
    "out_cdim_3 = []\n",
    "for i in range(1, 6):\n",
    "    with open('out_cdim=3_{}.pkl'.format(i), 'rb') as f:\n",
    "        out_cdim_3 += [pickle.load(f)]"
   ]
  },
  {
   "cell_type": "code",
   "execution_count": 42,
   "id": "b1fd9e72",
   "metadata": {},
   "outputs": [
    {
     "data": {
      "text/plain": [
       "([0.8035628342501536,\n",
       "  0.7991254421747522,\n",
       "  0.803748534073009,\n",
       "  0.8022862848864996,\n",
       "  0.8101601070850919],\n",
       " [0.8132626338891875,\n",
       "  0.8083242210919019,\n",
       "  0.8032565444081453,\n",
       "  0.7872975266160864,\n",
       "  0.8078740950940544],\n",
       " [0.8100899889424679,\n",
       "  0.8054058655950455,\n",
       "  0.8129696526296242,\n",
       "  0.8168617471888582,\n",
       "  0.8165364290505037])"
      ]
     },
     "execution_count": 42,
     "metadata": {},
     "output_type": "execute_result"
    }
   ],
   "source": [
    "[np.max(out_cdim_1[i][0]) for i in range(5)], \\\n",
    "[np.max(out_cdim_2[i][0]) for i in range(5)], \\\n",
    "[np.max(out_cdim_3[i][0]) for i in range(5)]"
   ]
  },
  {
   "cell_type": "code",
   "execution_count": 43,
   "id": "37b01249",
   "metadata": {},
   "outputs": [
    {
     "data": {
      "text/plain": [
       "((1, 0.8037766404939012, 0.003595829652310473),\n",
       " (2, 0.8040030042198751, 0.008933411281758686),\n",
       " (3, 0.8123727366813001, 0.004280002058488513))"
      ]
     },
     "execution_count": 43,
     "metadata": {},
     "output_type": "execute_result"
    }
   ],
   "source": [
    "(1, np.mean([np.max(out_cdim_1[i][0]) for i in range(5)]), \n",
    " np.std([np.max(out_cdim_1[i][0]) for i in range(5)])), \\\n",
    "(2, np.mean([np.max(out_cdim_2[i][0]) for i in range(5)]), \n",
    " np.std([np.max(out_cdim_2[i][0]) for i in range(5)])), \\\n",
    "(3, np.mean([np.max(out_cdim_3[i][0]) for i in range(5)]), \n",
    " np.std([np.max(out_cdim_3[i][0]) for i in range(5)]))"
   ]
  },
  {
   "cell_type": "code",
   "execution_count": 44,
   "id": "bf8bdc02",
   "metadata": {},
   "outputs": [],
   "source": [
    "_o1 = np.asarray([out_cdim_1[i][0] for i in range(5)])\n",
    "_o2 = np.asarray([out_cdim_2[i][0] for i in range(5)])\n",
    "_o3 = np.asarray([out_cdim_3[i][0] for i in range(5)])"
   ]
  },
  {
   "cell_type": "code",
   "execution_count": 48,
   "id": "3ca87c4c",
   "metadata": {},
   "outputs": [
    {
     "data": {
      "image/png": "[encoded data removed]",
      "text/plain": [
       "<Figure size 331.2x252 with 1 Axes>"
      ]
     },
     "metadata": {},
     "output_type": "display_data"
    }
   ],
   "source": [
    "plt.figure(figsize=(4.6, 3.5))\n",
    "#plt.xticks(np.arange(0, 501, 100))\n",
    "#plt.ylim(0, 1.3)\n",
    "plt.tick_params(labelsize=16)\n",
    "plt.grid()\n",
    "plt.ylabel('HV', fontsize=16)\n",
    "plt.xlabel('Iteration', fontsize=16)\n",
    "plt.axhline(0.847570173033233, ls='--', c='b', lw=2)\n",
    "\n",
    "plt.plot(_o1.mean(axis=0), c='k', lw=2.5, ls='-.')\n",
    "plt.fill_between(np.arange(801), \n",
    "                 _o1.mean(axis=0) - _o1.std(axis=0), \n",
    "                 _o1.mean(axis=0) + _o1.std(axis=0), alpha=0.2, color='k')\n",
    "\n",
    "plt.plot(_o2.mean(axis=0), c='b', lw=2.5, ls='--')\n",
    "plt.fill_between(np.arange(801), \n",
    "                 _o2.mean(axis=0) - _o2.std(axis=0), \n",
    "                 _o2.mean(axis=0) + _o2.std(axis=0), alpha=0.2, color='b')\n",
    "\n",
    "plt.plot(_o3.mean(axis=0), c='r', lw=2.5)\n",
    "plt.fill_between(np.arange(801), \n",
    "                 _o3.mean(axis=0) - _o3.std(axis=0), \n",
    "                 _o3.mean(axis=0) + _o3.std(axis=0), alpha=0.2, color='r')\n",
    "\n",
    "plt.tight_layout()\n",
    "# plt.savefig('learning_fruit_{}.png'.format(d_FTN), dpi=400)"
   ]
  },
  {
   "cell_type": "code",
   "execution_count": 6,
   "id": "01d6a755",
   "metadata": {},
   "outputs": [],
   "source": [
    "# best policies\n",
    "_oo1 = [out_cdim_1[i][2] for i in range(5)]\n",
    "_oo2 = [out_cdim_2[i][2] for i in range(5)]\n",
    "_oo3 = [out_cdim_3[i][2] for i in range(5)]"
   ]
  },
  {
   "cell_type": "code",
   "execution_count": 9,
   "id": "585b2456",
   "metadata": {},
   "outputs": [
    {
     "name": "stdout",
     "output_type": "stream",
     "text": [
      "1 0.8124414896418717 0.0036434315389890903\n",
      "2 0.8153459264798031 0.010554258768837402\n",
      "3 0.8208351248157543 0.0037410780469787513\n",
      "CPU times: user 17.5 s, sys: 998 ms, total: 18.5 s\n",
      "Wall time: 51.3 s\n"
     ]
    }
   ],
   "source": [
    "%%time\n",
    "TEST_SIZE = 1500\n",
    "for n, X in enumerate([_oo1, _oo2, _oo3]):\n",
    "    peak_hv = []\n",
    "    for i in range(5):\n",
    "        cs, all_R = morl.group_evaluation_REPEAT(policy=X[i], \n",
    "                                                 group_size=TEST_SIZE, \n",
    "                                                 n_jobs=15, \n",
    "                                                 env=LQG(n_obj=3, noise_std=0, a_max=10, normalizer=lambda x: x / 5.0 - 1.0)\\\n",
    "                                                 .set_ep_len(30), \n",
    "                                                 seed=1, deterministic=True, n_obj=3, gamma=0.9, \n",
    "                                                 n_episode_repeat=1)\n",
    "        \n",
    "        peak_hv += [morl.HV(Rs=np.asarray(all_R), ref_point=J_au) / 350**3]\n",
    "    \n",
    "    print(n + 1, np.mean(peak_hv), np.std(peak_hv))"
   ]
  },
  {
   "cell_type": "code",
   "execution_count": null,
   "id": "844b21b1",
   "metadata": {},
   "outputs": [],
   "source": []
  },
  {
   "cell_type": "code",
   "execution_count": null,
   "id": "24d67676",
   "metadata": {},
   "outputs": [],
   "source": []
  },
  {
   "cell_type": "code",
   "execution_count": null,
   "id": "f88bfe97",
   "metadata": {},
   "outputs": [],
   "source": []
  },
  {
   "cell_type": "markdown",
   "id": "5fae432e",
   "metadata": {},
   "source": [
    "# Comparison with true PF"
   ]
  },
  {
   "cell_type": "code",
   "execution_count": 16,
   "id": "702d1c39",
   "metadata": {},
   "outputs": [],
   "source": [
    "w1 = np.arange(0.01, 1, 0.01)\n",
    "w2 = [np.arange(0.01, 1 - w - 1e-4, 0.01) for w in w1]\n",
    "w_12 = np.vstack([np.vstack([[w1[i]] * len(w2[i]), w2[i]]).T for i in range(len(w1))])\n",
    "ws = np.hstack([w_12, np.reshape(1 - np.sum(w_12, axis=-1), (-1, 1))])"
   ]
  },
  {
   "cell_type": "code",
   "execution_count": 18,
   "id": "354477fc",
   "metadata": {
    "tags": []
   },
   "outputs": [
    {
     "data": {
      "text/plain": [
       "array([[0.01, 0.01, 0.98],\n",
       "       [0.01, 0.02, 0.97],\n",
       "       [0.01, 0.03, 0.96],\n",
       "       ...,\n",
       "       [0.97, 0.01, 0.02],\n",
       "       [0.97, 0.02, 0.01],\n",
       "       [0.98, 0.01, 0.01]])"
      ]
     },
     "execution_count": 18,
     "metadata": {},
     "output_type": "execute_result"
    }
   ],
   "source": [
    "ws"
   ]
  },
  {
   "cell_type": "code",
   "execution_count": 22,
   "id": "6494b7e3",
   "metadata": {},
   "outputs": [
    {
     "data": {
      "text/plain": [
       "(4851, 3)"
      ]
     },
     "execution_count": 22,
     "metadata": {},
     "output_type": "execute_result"
    }
   ],
   "source": [
    "ws.shape"
   ]
  },
  {
   "cell_type": "code",
   "execution_count": 19,
   "id": "f6cc6ed2",
   "metadata": {},
   "outputs": [
    {
     "name": "stdout",
     "output_type": "stream",
     "text": [
      "CPU times: user 32min, sys: 42min 47s, total: 1h 14min 47s\n",
      "Wall time: 24min 49s\n"
     ]
    }
   ],
   "source": [
    "%%time\n",
    "from optimal_lqg_solver import MO_LQG_return\n",
    "\n",
    "opt_Rs = np.asarray([MO_LQG_return(xi=0.1, gamma=0.9, w=w, x_init=[10.0]*3, \n",
    "                                   n_repeat=1, T_horizon=30, noise_std=0)\n",
    "         for w in ws])"
   ]
  },
  {
   "cell_type": "code",
   "execution_count": null,
   "id": "6eefef6e",
   "metadata": {},
   "outputs": [],
   "source": [
    "with open('lqg_3d_opt_Rs.pkl', 'wb') as f:\n",
    "    pickle.dump(opt_Rs, f)"
   ]
  },
  {
   "cell_type": "code",
   "execution_count": 27,
   "id": "9c074c82",
   "metadata": {},
   "outputs": [
    {
     "data": {
      "text/plain": [
       "array([[-296.22032099, -296.22032099, -162.31033959],\n",
       "       [-295.26401022, -290.42421563, -162.40891529],\n",
       "       [-294.37029445, -285.11158905, -162.55546303],\n",
       "       ...,\n",
       "       [-162.40891529, -295.26401022, -290.42421563],\n",
       "       [-162.40891529, -290.42421563, -295.26401022],\n",
       "       [-162.31033959, -296.22032099, -296.22032099]])"
      ]
     },
     "execution_count": 27,
     "metadata": {},
     "output_type": "execute_result"
    }
   ],
   "source": [
    "opt_Rs"
   ]
  },
  {
   "cell_type": "code",
   "execution_count": 32,
   "id": "3542c09e",
   "metadata": {},
   "outputs": [
    {
     "data": {
      "text/plain": [
       "0.847570173033233"
      ]
     },
     "execution_count": 32,
     "metadata": {},
     "output_type": "execute_result"
    }
   ],
   "source": [
    "# optimal HV\n",
    "morl.HV((opt_Rs - J_au) / (J_u - J_au), ref_point=np.zeros(3))"
   ]
  },
  {
   "cell_type": "code",
   "execution_count": null,
   "id": "a3ae6cec",
   "metadata": {},
   "outputs": [],
   "source": []
  },
  {
   "cell_type": "markdown",
   "id": "d1a31ed8",
   "metadata": {},
   "source": [
    "# Q と V を使用"
   ]
  },
  {
   "cell_type": "code",
   "execution_count": 50,
   "id": "97253dcb",
   "metadata": {
    "tags": []
   },
   "outputs": [],
   "source": [
    "def main_QV(n_obj: int, c_dim: int, n_rep: int, name: str = None):\n",
    "    for i in range(1, 1 + n_rep):\n",
    "        \n",
    "        np.random.seed(i)\n",
    "        \n",
    "        policy = morl.make_policy_net(state_dim=n_obj, \n",
    "                                      hidden_dim=30, \n",
    "                                      act_space=('continuous', n_obj), \n",
    "                                      c_dim=c_dim, \n",
    "                                      seed=i,\n",
    "                                      embed_dims=None, \n",
    "                                      std=0.2).to(morl.DEVICE)\n",
    "        \n",
    "        out = morl.learn(policy=policy, \n",
    "                         gradient_steps=800, \n",
    "                         n_grad_repeat=1, \n",
    "                         group_size_train=300, \n",
    "                         group_size_test=300, \n",
    "                         env=LQG(n_obj=n_obj, noise_std=0, a_max=10, normalizer=lambda x: x / 5.0 - 1.0), \n",
    "                         n_obj=n_obj, \n",
    "                         test_repeat=1, \n",
    "                         n_jobs=15, \n",
    "                         ep_len_train=30, \n",
    "                         ep_len_test=30, \n",
    "                         nn_k=3, \n",
    "                         beta=10.0, \n",
    "                         J_AU=J_au, \n",
    "                         J_U=J_u, \n",
    "                         gamma_train=0.9, \n",
    "                         gamma_test=0.9, \n",
    "                         mode='median', \n",
    "                         score_clipped_above_zero=False,    # no clipping\n",
    "                         use_QV=True, \n",
    "                         QV_params={\n",
    "                             'n_epochs': 1, \n",
    "                             'hidden_size': 30,\n",
    "                             'batch_size': 100\n",
    "                         }\n",
    "                        )\n",
    "        if name is None:\n",
    "            with open('out_QV_{}.pkl'.format(i), 'wb') as f:\n",
    "                pickle.dump(out, f)\n",
    "        else:\n",
    "            with open('out_QV_{}_{}.pkl'.format(name, i), 'wb') as f:\n",
    "                pickle.dump(out, f)"
   ]
  },
  {
   "cell_type": "code",
   "execution_count": null,
   "id": "12754f7f",
   "metadata": {
    "tags": []
   },
   "outputs": [],
   "source": [
    "%%time\n",
    "main_QV(n_obj=3, n_rep=5, c_dim=3, name='cdim=3')"
   ]
  },
  {
   "cell_type": "code",
   "execution_count": 10,
   "id": "7f2f19aa",
   "metadata": {},
   "outputs": [],
   "source": [
    "out_qv = []\n",
    "for i in range(1, 6):\n",
    "    with open('out_QV_cdim=3_{}.pkl'.format(i), 'rb') as f:\n",
    "        out_qv += [pickle.load(f)]"
   ]
  },
  {
   "cell_type": "code",
   "execution_count": 76,
   "id": "c56b31d1",
   "metadata": {},
   "outputs": [
    {
     "data": {
      "text/plain": [
       "[0.7240293380952527,\n",
       " 0.7308214647956259,\n",
       " 0.7562047390039931,\n",
       " 0.752537350059432,\n",
       " nan]"
      ]
     },
     "execution_count": 76,
     "metadata": {},
     "output_type": "execute_result"
    }
   ],
   "source": [
    "[np.max(out_qv[i][0]) for i in range(5)]"
   ]
  },
  {
   "cell_type": "code",
   "execution_count": 78,
   "id": "f741adf7",
   "metadata": {},
   "outputs": [
    {
     "data": {
      "text/plain": [
       "(0.7408982229885759, 0.013746445401676848)"
      ]
     },
     "execution_count": 78,
     "metadata": {},
     "output_type": "execute_result"
    }
   ],
   "source": [
    "(np.mean([np.max(out_qv[i][0]) for i in range(4)]), \n",
    " np.std([np.max(out_qv[i][0]) for i in range(4)]))"
   ]
  },
  {
   "cell_type": "code",
   "execution_count": 79,
   "id": "4e520c5f",
   "metadata": {},
   "outputs": [],
   "source": [
    "# _oqv = np.asarray([out_qv[i][0] for i in range(5)])\n",
    "_oqv = np.asarray([out_qv[i][0] for i in range(4)])"
   ]
  },
  {
   "cell_type": "code",
   "execution_count": 83,
   "id": "e6f65b05",
   "metadata": {},
   "outputs": [
    {
     "data": {
      "image/png": "[encoded data removed]",
      "text/plain": [
       "<Figure size 331.2x252 with 1 Axes>"
      ]
     },
     "metadata": {},
     "output_type": "display_data"
    }
   ],
   "source": [
    "plt.figure(figsize=(4.6, 3.5))\n",
    "#plt.xticks(np.arange(0, 501, 100))\n",
    "plt.ylim(0, 0.95)\n",
    "plt.tick_params(labelsize=16)\n",
    "plt.grid()\n",
    "plt.ylabel('HV', fontsize=16)\n",
    "plt.xlabel('Iteration', fontsize=16)\n",
    "\n",
    "plt.plot(_o3.mean(axis=0), c='r', lw=2.5, label='LC-MOPG')\n",
    "plt.fill_between(np.arange(801), \n",
    "                 _o3.mean(axis=0) - _o3.std(axis=0), \n",
    "                 _o3.mean(axis=0) + _o3.std(axis=0), alpha=0.2, color='r')\n",
    "\n",
    "plt.plot(np.nanmean(_oqv, axis=0), c='g', lw=2.5, label='LC-MOPG-V')\n",
    "plt.fill_between(np.arange(801), \n",
    "                 np.mean(_oqv, axis=0) - np.std(_oqv, axis=0), \n",
    "                 np.mean(_oqv, axis=0) + np.std(_oqv, axis=0), \n",
    "                 alpha=0.2, color='g')\n",
    "\n",
    "plt.axhline(0.847570173033233, ls='--', c='b', lw=2)\n",
    "plt.legend(fontsize=14)\n",
    "plt.tight_layout()\n",
    "# plt.savefig('learning_lqg3.png', dpi=400)"
   ]
  },
  {
   "cell_type": "code",
   "execution_count": 11,
   "id": "8e1c168b",
   "metadata": {},
   "outputs": [],
   "source": [
    "# best policies\n",
    "_oo_qv = [out_qv[i][2] for i in range(4)]"
   ]
  },
  {
   "cell_type": "code",
   "execution_count": 12,
   "id": "3c0cbb25",
   "metadata": {},
   "outputs": [
    {
     "name": "stdout",
     "output_type": "stream",
     "text": [
      "0.7544053023655617 0.015183103445407879\n",
      "CPU times: user 4.43 s, sys: 1.1 s, total: 5.53 s\n",
      "Wall time: 14.7 s\n"
     ]
    }
   ],
   "source": [
    "%%time\n",
    "TEST_SIZE = 1500\n",
    "\n",
    "peak_hv = []\n",
    "\n",
    "for i in range(4):\n",
    "    cs, all_R = morl.group_evaluation_REPEAT(policy=_oo_qv[i], \n",
    "                                             group_size=TEST_SIZE, \n",
    "                                             n_jobs=15, \n",
    "                                             env=LQG(n_obj=3, noise_std=0, a_max=10, \n",
    "                                                     normalizer=lambda x: x / 5.0 - 1.0)\\\n",
    "                                             .set_ep_len(30), \n",
    "                                             seed=1, deterministic=True, n_obj=3, gamma=0.9, \n",
    "                                             n_episode_repeat=1)\n",
    "\n",
    "    peak_hv += [morl.HV(Rs=np.asarray(all_R), ref_point=J_au) / 350**3]\n",
    "\n",
    "print(np.mean(peak_hv), np.std(peak_hv))"
   ]
  },
  {
   "cell_type": "code",
   "execution_count": null,
   "id": "f3f38288",
   "metadata": {},
   "outputs": [],
   "source": []
  },
  {
   "cell_type": "code",
   "execution_count": null,
   "id": "7d941a9d",
   "metadata": {},
   "outputs": [],
   "source": []
  },
  {
   "cell_type": "code",
   "execution_count": null,
   "id": "e277d399",
   "metadata": {},
   "outputs": [],
   "source": []
  },
  {
   "cell_type": "code",
   "execution_count": null,
   "id": "194b1f85",
   "metadata": {},
   "outputs": [],
   "source": []
  },
  {
   "cell_type": "code",
   "execution_count": null,
   "id": "ddd8b632",
   "metadata": {},
   "outputs": [],
   "source": []
  },
  {
   "cell_type": "code",
   "execution_count": null,
   "id": "9e1f2801",
   "metadata": {},
   "outputs": [],
   "source": []
  },
  {
   "cell_type": "code",
   "execution_count": null,
   "id": "4fc902e1",
   "metadata": {},
   "outputs": [],
   "source": []
  }
 ],
 "metadata": {
  "kernelspec": {
   "display_name": "Python 3",
   "language": "python",
   "name": "python3"
  },
  "language_info": {
   "codemirror_mode": {
    "name": "ipython",
    "version": 3
   },
   "file_extension": ".py",
   "mimetype": "text/x-python",
   "name": "python",
   "nbconvert_exporter": "python",
   "pygments_lexer": "ipython3",
   "version": "3.8.8"
  }
 },
 "nbformat": 4,
 "nbformat_minor": 5
}
