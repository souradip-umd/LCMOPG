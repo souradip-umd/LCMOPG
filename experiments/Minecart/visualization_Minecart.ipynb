{
 "cells": [
  {
   "cell_type": "code",
   "execution_count": null,
   "id": "4b6051d4",
   "metadata": {
    "tags": []
   },
   "outputs": [],
   "source": [
    "!conda install pytorch==1.10.1 -y"
   ]
  },
  {
   "cell_type": "code",
   "execution_count": 183,
   "id": "ae04a9f7",
   "metadata": {},
   "outputs": [
    {
     "name": "stderr",
     "output_type": "stream",
     "text": [
      "<ipython-input-183-d1b407b91dad>:6: MatplotlibDeprecationWarning: The seaborn styles shipped by Matplotlib are deprecated since 3.6, as they no longer correspond to the styles shipped by seaborn. However, they will remain available as 'seaborn-v0_8-<style>'. Alternatively, directly use the seaborn API instead.\n",
      "  plt.style.use('seaborn-white')\n"
     ]
    }
   ],
   "source": [
    "import numpy as np\n",
    "np.set_printoptions(suppress=True)\n",
    "import matplotlib.pyplot as plt\n",
    "%matplotlib inline\n",
    "import pickle\n",
    "plt.style.use('seaborn-white')\n",
    "import pandas as pd\n",
    "from typing import Optional\n",
    "from numpy.typing import NDArray\n",
    "from copy import deepcopy\n",
    "from joblib import Parallel, delayed\n",
    "import torch\n",
    "import morl\n",
    "from env_Minecart_deterministic import MinecartDeterministicEnv"
   ]
  },
  {
   "cell_type": "code",
   "execution_count": 2,
   "id": "2980c6fa",
   "metadata": {},
   "outputs": [],
   "source": [
    "with open('allRs.pkl', 'rb') as f:\n",
    "    allRs = pickle.load(f)\n",
    "\n",
    "with open('all_T.pkl', 'rb') as f:\n",
    "    all_T = pickle.load(f)"
   ]
  },
  {
   "cell_type": "code",
   "execution_count": 3,
   "id": "96fef00d",
   "metadata": {},
   "outputs": [
    {
     "data": {
      "text/plain": [
       "((5, 2000, 3), (5, 2000))"
      ]
     },
     "execution_count": 3,
     "metadata": {},
     "output_type": "execute_result"
    }
   ],
   "source": [
    "allRs.shape, all_T.shape"
   ]
  },
  {
   "cell_type": "code",
   "execution_count": null,
   "id": "69175748",
   "metadata": {},
   "outputs": [],
   "source": []
  },
  {
   "cell_type": "markdown",
   "id": "b5460b09",
   "metadata": {},
   "source": [
    "# Identify Pareto frontier"
   ]
  },
  {
   "cell_type": "code",
   "execution_count": 4,
   "id": "70ee0ceb",
   "metadata": {},
   "outputs": [
    {
     "name": "stdout",
     "output_type": "stream",
     "text": [
      "CPU times: user 33.4 s, sys: 0 ns, total: 33.4 s\n",
      "Wall time: 33.4 s\n"
     ]
    }
   ],
   "source": [
    "%%time\n",
    "R_checklist = []\n",
    "for i in range(5):\n",
    "    R_checklist += [morl.check_pf(allRs[i])]"
   ]
  },
  {
   "cell_type": "code",
   "execution_count": 5,
   "id": "f5c3b15c",
   "metadata": {},
   "outputs": [
    {
     "data": {
      "text/plain": [
       "(5, 2000)"
      ]
     },
     "execution_count": 5,
     "metadata": {},
     "output_type": "execute_result"
    }
   ],
   "source": [
    "np.shape(R_checklist)"
   ]
  },
  {
   "cell_type": "code",
   "execution_count": 6,
   "id": "daed121d",
   "metadata": {},
   "outputs": [
    {
     "name": "stdout",
     "output_type": "stream",
     "text": [
      "CPU times: user 1.14 s, sys: 0 ns, total: 1.14 s\n",
      "Wall time: 1.14 s\n"
     ]
    }
   ],
   "source": [
    "%%time\n",
    "_R = np.vstack([allRs[i][R_checklist[i]] for i in range(5)])\n",
    "_R_check = morl.check_pf(_R)\n",
    "R_pf = _R[_R_check]"
   ]
  },
  {
   "cell_type": "code",
   "execution_count": 7,
   "id": "948d4ef1",
   "metadata": {},
   "outputs": [
    {
     "data": {
      "text/plain": [
       "(88, 3)"
      ]
     },
     "execution_count": 7,
     "metadata": {},
     "output_type": "execute_result"
    }
   ],
   "source": [
    "R_pf.shape"
   ]
  },
  {
   "cell_type": "code",
   "execution_count": 9,
   "id": "ad97984f",
   "metadata": {},
   "outputs": [
    {
     "data": {
      "text/plain": [
       "(array([[ 0.    ,  0.    , -0.3599],\n",
       "        [ 0.    ,  0.8   , -0.9799],\n",
       "        [ 0.    ,  1.5   , -1.0799],\n",
       "        [ 0.28  ,  1.22  , -1.2599],\n",
       "        [ 0.3499,  1.1499, -1.5599],\n",
       "        [ 0.4   ,  0.6   , -0.8399],\n",
       "        [ 0.4   ,  1.1   , -1.5399],\n",
       "        [ 0.4199,  1.08  , -1.4799],\n",
       "        [ 0.6   ,  0.8999, -1.0999],\n",
       "        [ 0.6499,  0.85  , -1.2999],\n",
       "        [ 0.6999,  0.8   , -1.5599],\n",
       "        [ 0.75  ,  0.75  , -0.8999],\n",
       "        [ 0.8   ,  0.    , -0.9999],\n",
       "        [ 0.8   ,  0.6999, -1.8599],\n",
       "        [ 0.85  ,  0.6499, -1.3999],\n",
       "        [ 0.8999,  0.6   , -1.0799],\n",
       "        [ 1.08  ,  0.4199, -1.8199],\n",
       "        [ 1.1   ,  0.4   , -1.3799],\n",
       "        [ 1.1499,  0.3499, -1.6399],\n",
       "        [ 1.22  ,  0.28  , -1.3199],\n",
       "        [ 1.5   ,  0.    , -1.0399]]),\n",
       " (21, 3))"
      ]
     },
     "execution_count": 9,
     "metadata": {},
     "output_type": "execute_result"
    }
   ],
   "source": [
    "R_uni = np.unique((R_pf * 10000).astype(int), axis=0) * 1e-4\n",
    "R_uni, R_uni.shape"
   ]
  },
  {
   "cell_type": "code",
   "execution_count": 12,
   "id": "f6707a4c",
   "metadata": {},
   "outputs": [
    {
     "data": {
      "image/png": "[encoded data removed]",
      "text/plain": [
       "<Figure size 482.4x396 with 2 Axes>"
      ]
     },
     "metadata": {},
     "output_type": "display_data"
    }
   ],
   "source": [
    "plt.figure(figsize=(6.7, 5.5))\n",
    "plt.tick_params(labelsize=15)\n",
    "plt.xlim(-0.08, 1.58); plt.ylim(-0.08, 1.58)\n",
    "ax = plt.gca()\n",
    "_x = 1.0\n",
    "ax.set_facecolor((_x, _x, _x))\n",
    "plt.grid(True, linestyle='--')\n",
    "plt.xticks([0, 0.5, 1, 1.5]); plt.yticks([0, 0.5, 1, 1.5])\n",
    "plt.scatter(R_uni[:, 0], R_uni[:, 1], c=R_uni[:, -1], cmap='bwr', edgecolors='k', s=100, marker='s')\n",
    "plt.colorbar()\n",
    "plt.tight_layout()\n",
    "# plt.savefig('minecart_pf.png', dpi=500)"
   ]
  },
  {
   "cell_type": "markdown",
   "id": "3c2b118d",
   "metadata": {},
   "source": [
    "Returns will no ores"
   ]
  },
  {
   "cell_type": "code",
   "execution_count": 16,
   "id": "31412084",
   "metadata": {},
   "outputs": [
    {
     "data": {
      "text/plain": [
       "8357"
      ]
     },
     "execution_count": 16,
     "metadata": {},
     "output_type": "execute_result"
    }
   ],
   "source": [
    "np.sum([x[0] + x[1] < 1e-3 for x in allRs.reshape(5 * 2000, 3)])"
   ]
  },
  {
   "cell_type": "code",
   "execution_count": null,
   "id": "ce0fd463",
   "metadata": {},
   "outputs": [],
   "source": []
  },
  {
   "cell_type": "markdown",
   "id": "70fc8057",
   "metadata": {},
   "source": [
    "# Distribution of episode lengths"
   ]
  },
  {
   "cell_type": "code",
   "execution_count": 19,
   "id": "661ef85c",
   "metadata": {},
   "outputs": [
    {
     "data": {
      "text/plain": [
       "8236"
      ]
     },
     "execution_count": 19,
     "metadata": {},
     "output_type": "execute_result"
    }
   ],
   "source": [
    "np.sum(all_T == 1000)"
   ]
  },
  {
   "cell_type": "code",
   "execution_count": 22,
   "id": "a138232c",
   "metadata": {},
   "outputs": [
    {
     "data": {
      "text/plain": [
       "(247,)"
      ]
     },
     "execution_count": 22,
     "metadata": {},
     "output_type": "execute_result"
    }
   ],
   "source": [
    "T_pf = []\n",
    "for i in range(5):\n",
    "    T_pf += list(all_T[i][R_checklist[i]])\n",
    "T_pf = np.array(T_pf)\n",
    "T_pf.shape"
   ]
  },
  {
   "cell_type": "code",
   "execution_count": 23,
   "id": "71e9e98f",
   "metadata": {},
   "outputs": [
    {
     "data": {
      "text/plain": [
       "array([24, 35, 33, 72, 29, 20, 17, 33, 18, 28, 21, 28, 33, 29, 29, 28, 20,\n",
       "       33, 29, 33, 22, 20, 28, 28, 28, 22, 22, 28, 19, 28, 20, 25, 22, 20,\n",
       "       26, 36, 27, 27, 27, 20, 27, 27, 27, 27, 17, 13, 27, 27, 22,  9, 27,\n",
       "       27, 16, 18, 27, 17, 20,  9,  9, 18, 27, 27, 18, 20, 20, 27, 25, 17,\n",
       "       20, 40, 34, 18, 26, 17, 20, 27, 27, 18, 26,  9, 20, 16,  9, 18, 18,\n",
       "       27, 16, 35, 20, 20, 27, 18,  9, 27, 27, 18, 27, 17, 27, 27, 27, 19,\n",
       "       39, 27, 20, 11, 29, 20, 24, 11, 21, 18, 24, 24, 19, 11, 32, 11, 11,\n",
       "       20, 18, 19, 27, 24, 33, 11, 24, 19, 24, 24, 36, 11, 11, 19, 11, 22,\n",
       "       33, 11, 11, 16, 23, 11, 27, 11, 18, 33, 31, 11, 25, 19, 11, 11, 23,\n",
       "       30, 31, 19, 19, 24, 28, 20, 14, 20, 28, 23, 24, 13, 19, 30, 19, 19,\n",
       "       13, 20, 24, 13, 13, 20, 21, 19, 20, 20, 25, 13, 19, 19, 20, 20, 24,\n",
       "       20, 13, 22, 24, 27, 24, 19, 13, 29, 15, 17, 27, 20, 35,  8, 25,  8,\n",
       "       25,  8, 53, 22, 34, 40, 25,  8, 35,  8,  8,  8, 29, 25,  8, 22,  8,\n",
       "       25,  8, 20,  8, 27, 20,  8, 22,  8, 25, 33,  8,  8, 29, 22, 20,  8,\n",
       "       28, 22,  8,  8,  8,  8,  8,  8,  8])"
      ]
     },
     "execution_count": 23,
     "metadata": {},
     "output_type": "execute_result"
    }
   ],
   "source": [
    "T_pf"
   ]
  },
  {
   "cell_type": "code",
   "execution_count": 26,
   "id": "3b47f0ea",
   "metadata": {},
   "outputs": [
    {
     "data": {
      "text/plain": [
       "(27.972789115646258, 20.622933399901)"
      ]
     },
     "execution_count": 26,
     "metadata": {},
     "output_type": "execute_result"
    }
   ],
   "source": [
    "np.mean(all_T.ravel()[all_T.ravel() < 1000]), np.std(all_T.ravel()[all_T.ravel() < 1000])"
   ]
  },
  {
   "cell_type": "code",
   "execution_count": 69,
   "id": "d22b2ab1",
   "metadata": {},
   "outputs": [
    {
     "data": {
      "image/png": "[encoded data removed]",
      "text/plain": [
       "<Figure size 342x252 with 1 Axes>"
      ]
     },
     "metadata": {},
     "output_type": "display_data"
    }
   ],
   "source": [
    "plt.figure(figsize=(4.75, 3.5))\n",
    "plt.xlim(0, 50)\n",
    "plt.tick_params(labelsize=15)\n",
    "\n",
    "plt.hist(T_pf, bins=np.arange(0, 51, 5), alpha=0.4, color='darkviolet')[-1]\n",
    "\n",
    "plt.grid(True, linestyle='--')\n",
    "plt.ylabel('Count', fontsize=16)\n",
    "plt.xlabel('Episode length', fontsize=16)\n",
    "plt.tight_layout()\n",
    "# plt.savefig('minecart_ep_len.png', dpi=500)"
   ]
  },
  {
   "cell_type": "code",
   "execution_count": null,
   "id": "fce78185",
   "metadata": {},
   "outputs": [],
   "source": []
  },
  {
   "cell_type": "markdown",
   "id": "7694bbf8",
   "metadata": {},
   "source": [
    "# Trajectory"
   ]
  },
  {
   "cell_type": "code",
   "execution_count": 72,
   "id": "1f6a50be",
   "metadata": {},
   "outputs": [],
   "source": [
    "with open('out_5.pkl', 'rb') as f:\n",
    "    nice_policy = pickle.load(f)[2]"
   ]
  },
  {
   "cell_type": "code",
   "execution_count": 74,
   "id": "4a089537",
   "metadata": {},
   "outputs": [],
   "source": [
    "def NORM(s: NDArray):\n",
    "    return np.array([s[0], s[1], \n",
    "                     s[2] * 30, \n",
    "                     s[3] / 360, \n",
    "                     s[4] / 1.5, s[5] / 1.5])"
   ]
  },
  {
   "cell_type": "code",
   "execution_count": 181,
   "id": "2a16704d",
   "metadata": {},
   "outputs": [],
   "source": [
    "def run_episode_w_last_state_included(policy, env, c: NDArray, \n",
    "                                      deterministic: bool, n_obj: int, gamma: float):\n",
    "    assert  0.0 < gamma <= 1.0\n",
    "    trajectory = []\n",
    "    env = deepcopy(env)\n",
    "    s = env.reset()\n",
    "    ep_ret = np.zeros(n_obj)\n",
    "    count = 0\n",
    "    with torch.no_grad():\n",
    "        while True:\n",
    "            if deterministic:\n",
    "                a = policy.mean(X=torch.Tensor(np.atleast_2d(s)), c=c)\n",
    "            else:\n",
    "                a = policy.sample(X=torch.Tensor(np.atleast_2d(s)), c=c)\n",
    "            \n",
    "            if not isinstance(a, int):\n",
    "                a = a.cpu().numpy().ravel()\n",
    "                    \n",
    "            trajectory += [np.hstack([s, a])]\n",
    "            s, r, done, _ = env.step(a)\n",
    "            ep_ret += r * gamma ** count\n",
    "            count += 1\n",
    "            if done:\n",
    "                trajectory += [np.hstack([s, -1])]\n",
    "                break\n",
    "    return ep_ret, np.vstack(trajectory)\n",
    "\n",
    "def group_evaluation_w_last_state_included(policy, group_size: int, n_jobs: int, env, \n",
    "                                           deterministic: bool, n_obj: int, gamma: float, seed: Optional[int] = None):\n",
    "    if seed is None:\n",
    "        cs = np.random.uniform(size=(group_size, policy.c_dim))\n",
    "    else:\n",
    "        cs = np.random.RandomState(seed).uniform(size=(group_size, policy.c_dim))\n",
    "        \n",
    "    c_policy = deepcopy(policy).to('cpu') if policy is not None else None\n",
    "    record = Parallel(n_jobs=n_jobs)(delayed(run_episode_w_last_state_included)(*(c_policy, env, c, deterministic, n_obj, gamma)) for c in cs)\n",
    "    return cs, record"
   ]
  },
  {
   "cell_type": "code",
   "execution_count": 184,
   "id": "23696f9a",
   "metadata": {},
   "outputs": [
    {
     "name": "stderr",
     "output_type": "stream",
     "text": [
      "/opt/conda/lib/python3.8/site-packages/gym/spaces/box.py:127: UserWarning: \u001b[33mWARN: Box bound precision lowered by casting to float32\u001b[0m\n",
      "  logger.warn(f\"Box bound precision lowered by casting to {self.dtype}\")\n"
     ]
    },
    {
     "name": "stdout",
     "output_type": "stream",
     "text": [
      "CPU times: user 5.88 s, sys: 458 ms, total: 6.34 s\n",
      "Wall time: 14.7 s\n"
     ]
    }
   ],
   "source": [
    "%%time\n",
    "TEST_SIZE = 2500\n",
    "cs, record = group_evaluation_w_last_state_included(policy=nice_policy, \n",
    "                                                    group_size=TEST_SIZE, n_jobs=15, \n",
    "                                                    env=MinecartDeterministicEnv().set_normalizer(normalizer=NORM).set_ep_len(100), \n",
    "                                                    seed=2976, deterministic=True, n_obj=3, gamma=1.0)\n",
    "Rs = np.array([x[0] for x in record])"
   ]
  },
  {
   "cell_type": "code",
   "execution_count": 185,
   "id": "89d25673",
   "metadata": {},
   "outputs": [
    {
     "data": {
      "text/plain": [
       "((2500, 3), 2500, (2500, 3))"
      ]
     },
     "execution_count": 185,
     "metadata": {},
     "output_type": "execute_result"
    }
   ],
   "source": [
    "cs.shape, len(record), Rs.shape"
   ]
  },
  {
   "cell_type": "code",
   "execution_count": 186,
   "id": "40cbac18",
   "metadata": {},
   "outputs": [
    {
     "name": "stdout",
     "output_type": "stream",
     "text": [
      "CPU times: user 8.32 s, sys: 0 ns, total: 8.32 s\n",
      "Wall time: 8.32 s\n"
     ]
    }
   ],
   "source": [
    "%%time\n",
    "pf_idx = morl.check_pf(Rs)"
   ]
  },
  {
   "cell_type": "code",
   "execution_count": 187,
   "id": "ac1192c6",
   "metadata": {},
   "outputs": [
    {
     "data": {
      "text/plain": [
       "KMeans(n_clusters=10, random_state=0)"
      ]
     },
     "execution_count": 187,
     "metadata": {},
     "output_type": "execute_result"
    }
   ],
   "source": [
    "from sklearn.cluster import KMeans\n",
    "km = KMeans(n_clusters=10, random_state=0)\n",
    "km.fit(Rs[pf_idx])"
   ]
  },
  {
   "cell_type": "code",
   "execution_count": 188,
   "id": "3502337a",
   "metadata": {},
   "outputs": [
    {
     "data": {
      "text/plain": [
       "array([5, 6, 7, 0, 6, 0, 1, 0, 8, 4, 2, 1, 0, 2, 0, 0, 0, 4, 1, 0, 3, 0,\n",
       "       1, 0, 2, 0, 7, 6, 0, 3, 0, 6, 0, 0, 7, 3, 6, 0, 4, 0, 0, 0, 0, 0,\n",
       "       0, 0, 5, 0, 0, 1, 0, 3, 9, 0, 0, 0, 0, 2, 4, 6, 7], dtype=int32)"
      ]
     },
     "execution_count": 188,
     "metadata": {},
     "output_type": "execute_result"
    }
   ],
   "source": [
    "km.labels_"
   ]
  },
  {
   "cell_type": "code",
   "execution_count": 189,
   "id": "822ce240",
   "metadata": {},
   "outputs": [
    {
     "data": {
      "text/plain": [
       "array([[ 0.        , -0.        , -0.35999999],\n",
       "       [ 0.64999999,  0.85000001, -1.30399998],\n",
       "       [ 1.24250001,  0.2575    , -1.50499997],\n",
       "       [ 0.40000001,  0.60000002, -0.83999998],\n",
       "       [ 0.3625    ,  1.13750002, -1.59499997],\n",
       "       [ 0.        ,  0.80000001, -1.03999998],\n",
       "       [ 0.84999998,  0.65000002, -1.09999998],\n",
       "       [ 0.89500003,  0.60499998, -1.83999997],\n",
       "       [ 0.        ,  1.5       , -1.23999998],\n",
       "       [ 0.80000001,  0.        , -0.97999998]])"
      ]
     },
     "execution_count": 189,
     "metadata": {},
     "output_type": "execute_result"
    }
   ],
   "source": [
    "km.cluster_centers_"
   ]
  },
  {
   "cell_type": "code",
   "execution_count": 251,
   "id": "9f25e4e4",
   "metadata": {},
   "outputs": [],
   "source": [
    "def INV_NORM(s: NDArray):\n",
    "    return np.array([s[0], s[1], \n",
    "                     s[2] / 30, \n",
    "                     s[3] * 360, \n",
    "                     s[4] * 1.5, s[5] * 1.5])"
   ]
  },
  {
   "cell_type": "code",
   "execution_count": 281,
   "id": "1601f944",
   "metadata": {},
   "outputs": [
    {
     "name": "stdout",
     "output_type": "stream",
     "text": [
      "810 [ 0.64999998  0.85000002 -1.29999998]\n",
      "[0.87090394 0.46417099 0.00092655]\n"
     ]
    }
   ],
   "source": [
    "CLUSTER = 1\n",
    "IDX = np.random.RandomState(12).choice(np.arange(len(km.labels_))[km.labels_ == CLUSTER])\n",
    "IDX = np.arange(len(Rs))[pf_idx][IDX]\n",
    "print(IDX, Rs[IDX])\n",
    "traj_s = np.array([INV_NORM(x) for x in record[IDX][1][:, :-1]])\n",
    "traj_a = record[IDX][1][:, -1].astype(int)\n",
    "print(cs[IDX])"
   ]
  },
  {
   "cell_type": "code",
   "execution_count": 282,
   "id": "8da8d154",
   "metadata": {},
   "outputs": [
    {
     "data": {
      "image/png": "[encoded data removed]",
      "text/plain": [
       "<Figure size 432x432 with 1 Axes>"
      ]
     },
     "metadata": {},
     "output_type": "display_data"
    }
   ],
   "source": [
    "fig = plt.figure(figsize=(6, 6))\n",
    "ax = fig.gca()\n",
    "plt.xlim(0, 1)\n",
    "plt.ylim(1, 0)\n",
    "plt.tick_params(labelleft=False, labelbottom=False)\n",
    "circle1 = plt.Circle((0, 0), 0.15, color='r')\n",
    "mine1 = plt.Circle((0.16, 0.84), 0.14, color='b', alpha=0.3)\n",
    "mine2 = plt.Circle((0.5, 0.84), 0.14, color='b', alpha=0.3)\n",
    "mine3 = plt.Circle((0.84, 0.84), 0.14, color='b', alpha=0.3)\n",
    "mine4 = plt.Circle((0.84, 0.5), 0.14, color='b', alpha=0.3)\n",
    "mine5 = plt.Circle((0.84, 0.16), 0.14, color='b', alpha=0.3)\n",
    "ax.add_patch(circle1)\n",
    "ax.add_patch(mine1)\n",
    "ax.add_patch(mine2)\n",
    "ax.add_patch(mine3)\n",
    "ax.add_patch(mine4)\n",
    "ax.add_patch(mine5)\n",
    "\n",
    "x = traj_s[:, 0]\n",
    "y = traj_s[:, 1]\n",
    "plt.quiver(x[:-1], y[:-1], x[1:] - x[:-1], y[1:] - y[:-1], \n",
    "           scale_units='xy', angles='xy', scale=1, \n",
    "           headwidth=5, headlength=5, width=0.006, headaxislength=4)\n",
    "\n",
    "for i in range(len(traj_a)):\n",
    "    a = traj_a[i]\n",
    "    act = 'M' if a == 0 else None\n",
    "    if act is not None:\n",
    "        plt.annotate(text=act, xy=np.array([x[i]-0.022, y[i]+0.062]), fontsize=22)\n",
    "\n",
    "plt.tight_layout()\n",
    "plt.savefig('minecart_traj_1.png', dpi=500)"
   ]
  },
  {
   "cell_type": "code",
   "execution_count": 283,
   "id": "8214602c",
   "metadata": {},
   "outputs": [
    {
     "name": "stdout",
     "output_type": "stream",
     "text": [
      "2177 [ 0.40000001  0.60000002 -0.83999998]\n",
      "[0.31471917 0.03019363 0.09615134]\n"
     ]
    }
   ],
   "source": [
    "CLUSTER = 3\n",
    "IDX = np.random.RandomState(12).choice(np.arange(len(km.labels_))[km.labels_ == CLUSTER])\n",
    "IDX = np.arange(len(Rs))[pf_idx][IDX]\n",
    "print(IDX, Rs[IDX])\n",
    "traj_s = np.array([INV_NORM(x) for x in record[IDX][1][:, :-1]])\n",
    "traj_a = record[IDX][1][:, -1].astype(int)\n",
    "print(cs[IDX])"
   ]
  },
  {
   "cell_type": "code",
   "execution_count": 284,
   "id": "7695d830",
   "metadata": {},
   "outputs": [
    {
     "data": {
      "image/png": "[encoded data removed]",
      "text/plain": [
       "<Figure size 432x432 with 1 Axes>"
      ]
     },
     "metadata": {},
     "output_type": "display_data"
    }
   ],
   "source": [
    "fig = plt.figure(figsize=(6, 6))\n",
    "ax = fig.gca()\n",
    "plt.xlim(0, 1)\n",
    "plt.ylim(1, 0)\n",
    "plt.tick_params(labelleft=False, labelbottom=False)\n",
    "circle1 = plt.Circle((0, 0), 0.15, color='r')\n",
    "mine1 = plt.Circle((0.16, 0.84), 0.14, color='b', alpha=0.3)\n",
    "mine2 = plt.Circle((0.5, 0.84), 0.14, color='b', alpha=0.3)\n",
    "mine3 = plt.Circle((0.84, 0.84), 0.14, color='b', alpha=0.3)\n",
    "mine4 = plt.Circle((0.84, 0.5), 0.14, color='b', alpha=0.3)\n",
    "mine5 = plt.Circle((0.84, 0.16), 0.14, color='b', alpha=0.3)\n",
    "ax.add_patch(circle1)\n",
    "ax.add_patch(mine1)\n",
    "ax.add_patch(mine2)\n",
    "ax.add_patch(mine3)\n",
    "ax.add_patch(mine4)\n",
    "ax.add_patch(mine5)\n",
    "\n",
    "x = traj_s[:, 0]\n",
    "y = traj_s[:, 1]\n",
    "plt.quiver(x[:-1], y[:-1], x[1:] - x[:-1], y[1:] - y[:-1], \n",
    "           scale_units='xy', angles='xy', scale=1, \n",
    "           headwidth=5, headlength=5, width=0.006, headaxislength=4)\n",
    "\n",
    "for i in range(len(traj_a)):\n",
    "    a = traj_a[i]\n",
    "    act = 'M' if a == 0 else None\n",
    "    if act is not None:\n",
    "        plt.annotate(text=act, xy=np.array([x[i]-0.022, y[i]+0.062]), fontsize=22)\n",
    "\n",
    "plt.tight_layout()\n",
    "plt.savefig('minecart_traj_2.png', dpi=500)"
   ]
  },
  {
   "cell_type": "code",
   "execution_count": 285,
   "id": "7ccd4933",
   "metadata": {},
   "outputs": [
    {
     "name": "stdout",
     "output_type": "stream",
     "text": [
      "589 [ 0.28        1.22000003 -1.37999998]\n",
      "[0.65585068 0.38359305 0.13956056]\n"
     ]
    }
   ],
   "source": [
    "CLUSTER = 4\n",
    "IDX = np.random.RandomState(11).choice(np.arange(len(km.labels_))[km.labels_ == CLUSTER])\n",
    "IDX = np.arange(len(Rs))[pf_idx][IDX]\n",
    "print(IDX, Rs[IDX])\n",
    "traj_s = np.array([INV_NORM(x) for x in record[IDX][1][:, :-1]])\n",
    "traj_a = record[IDX][1][:, -1].astype(int)\n",
    "print(cs[IDX])"
   ]
  },
  {
   "cell_type": "code",
   "execution_count": 286,
   "id": "13eb8c3a",
   "metadata": {},
   "outputs": [
    {
     "data": {
      "image/png": "[encoded data removed]",
      "text/plain": [
       "<Figure size 432x432 with 1 Axes>"
      ]
     },
     "metadata": {},
     "output_type": "display_data"
    }
   ],
   "source": [
    "fig = plt.figure(figsize=(6, 6))\n",
    "ax = fig.gca()\n",
    "plt.xlim(0, 1)\n",
    "plt.ylim(1, 0)\n",
    "plt.tick_params(labelleft=False, labelbottom=False)\n",
    "circle1 = plt.Circle((0, 0), 0.15, color='r')\n",
    "mine1 = plt.Circle((0.16, 0.84), 0.14, color='b', alpha=0.3)\n",
    "mine2 = plt.Circle((0.5, 0.84), 0.14, color='b', alpha=0.3)\n",
    "mine3 = plt.Circle((0.84, 0.84), 0.14, color='b', alpha=0.3)\n",
    "mine4 = plt.Circle((0.84, 0.5), 0.14, color='b', alpha=0.3)\n",
    "mine5 = plt.Circle((0.84, 0.16), 0.14, color='b', alpha=0.3)\n",
    "ax.add_patch(circle1)\n",
    "ax.add_patch(mine1)\n",
    "ax.add_patch(mine2)\n",
    "ax.add_patch(mine3)\n",
    "ax.add_patch(mine4)\n",
    "ax.add_patch(mine5)\n",
    "\n",
    "x = traj_s[:, 0]\n",
    "y = traj_s[:, 1]\n",
    "plt.quiver(x[:-1], y[:-1], x[1:] - x[:-1], y[1:] - y[:-1], \n",
    "           scale_units='xy', angles='xy', scale=1, \n",
    "           headwidth=5, headlength=5, width=0.006, headaxislength=4)\n",
    "\n",
    "for i in range(len(traj_a)):\n",
    "    a = traj_a[i]\n",
    "    act = 'M' if a == 0 else None\n",
    "    if act is not None:\n",
    "        plt.annotate(text=act, xy=np.array([x[i]-0.022, y[i]+0.062]), fontsize=22)\n",
    "\n",
    "plt.tight_layout()\n",
    "plt.savefig('minecart_traj_3.png', dpi=500)"
   ]
  },
  {
   "cell_type": "code",
   "execution_count": null,
   "id": "94ed5d05",
   "metadata": {},
   "outputs": [],
   "source": []
  },
  {
   "cell_type": "code",
   "execution_count": null,
   "id": "0b77edda",
   "metadata": {},
   "outputs": [],
   "source": []
  },
  {
   "cell_type": "code",
   "execution_count": null,
   "id": "2880b9b6",
   "metadata": {},
   "outputs": [],
   "source": []
  },
  {
   "cell_type": "code",
   "execution_count": null,
   "id": "df09ac69",
   "metadata": {},
   "outputs": [],
   "source": []
  },
  {
   "cell_type": "code",
   "execution_count": null,
   "id": "fcf126b8",
   "metadata": {},
   "outputs": [],
   "source": []
  },
  {
   "cell_type": "code",
   "execution_count": null,
   "id": "111f4607",
   "metadata": {},
   "outputs": [],
   "source": []
  }
 ],
 "metadata": {
  "kernelspec": {
   "display_name": "Python 3",
   "language": "python",
   "name": "python3"
  },
  "language_info": {
   "codemirror_mode": {
    "name": "ipython",
    "version": 3
   },
   "file_extension": ".py",
   "mimetype": "text/x-python",
   "name": "python",
   "nbconvert_exporter": "python",
   "pygments_lexer": "ipython3",
   "version": "3.8.8"
  }
 },
 "nbformat": 4,
 "nbformat_minor": 5
}
