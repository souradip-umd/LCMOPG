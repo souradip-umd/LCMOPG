{
 "cells": [
  {
   "cell_type": "code",
   "execution_count": null,
   "id": "f0d78427",
   "metadata": {
    "tags": []
   },
   "outputs": [],
   "source": [
    "!conda install pytorch==1.10.1 -y"
   ]
  },
  {
   "cell_type": "code",
   "execution_count": 1,
   "id": "24e4477d",
   "metadata": {},
   "outputs": [
    {
     "name": "stderr",
     "output_type": "stream",
     "text": [
      "<ipython-input-1-49995aece191>:6: MatplotlibDeprecationWarning: The seaborn styles shipped by Matplotlib are deprecated since 3.6, as they no longer correspond to the styles shipped by seaborn. However, they will remain available as 'seaborn-v0_8-<style>'. Alternatively, directly use the seaborn API instead.\n",
      "  plt.style.use('seaborn-white')\n"
     ]
    }
   ],
   "source": [
    "import numpy as np\n",
    "np.set_printoptions(suppress=True)\n",
    "import matplotlib.pyplot as plt\n",
    "%matplotlib inline\n",
    "import pickle\n",
    "plt.style.use('seaborn-white')\n",
    "import pandas as pd\n",
    "from numpy.typing import NDArray"
   ]
  },
  {
   "cell_type": "code",
   "execution_count": 2,
   "id": "baaeb475",
   "metadata": {},
   "outputs": [],
   "source": [
    "import torch\n",
    "import morl\n",
    "from env_Minecart_deterministic import MinecartDeterministicEnv"
   ]
  },
  {
   "cell_type": "code",
   "execution_count": 3,
   "id": "a73e74ef",
   "metadata": {},
   "outputs": [],
   "source": [
    "J_au = np.array([0, 0, -200.])"
   ]
  },
  {
   "cell_type": "code",
   "execution_count": 4,
   "id": "392805cd",
   "metadata": {},
   "outputs": [],
   "source": [
    "# moving average\n",
    "def mv_avg(arr: NDArray, w: int):\n",
    "    return [np.mean(arr[i : i + w]) for i in range(len(arr) - w + 1)]"
   ]
  },
  {
   "cell_type": "code",
   "execution_count": null,
   "id": "1c38cf6f",
   "metadata": {},
   "outputs": [],
   "source": []
  },
  {
   "cell_type": "markdown",
   "id": "5dd8640c",
   "metadata": {},
   "source": [
    "# LC-MOPG"
   ]
  },
  {
   "cell_type": "code",
   "execution_count": 5,
   "id": "b365ab7b",
   "metadata": {},
   "outputs": [],
   "source": [
    "def NORM(s: NDArray):\n",
    "    return np.array([s[0], s[1], \n",
    "                     s[2] * 30, \n",
    "                     s[3] / 360, \n",
    "                     s[4] / 1.5, s[5] / 1.5])"
   ]
  },
  {
   "cell_type": "code",
   "execution_count": 8,
   "id": "ce86c828",
   "metadata": {
    "tags": []
   },
   "outputs": [],
   "source": [
    "def main(c_dim: int, n_rep: int, name: str = None, RANGE: list = None):\n",
    "    for i in (range(1, 1 + n_rep) if RANGE is None else RANGE):\n",
    "        \n",
    "        np.random.seed(i)\n",
    "        print(i)\n",
    "        \n",
    "        policy = morl.make_policy_net(state_dim=6, \n",
    "                                      hidden_dim=36, \n",
    "                                      act_space=('discrete', 6), \n",
    "                                      c_dim=c_dim, \n",
    "                                      seed=i+10000,\n",
    "                                      embed_dims=[10] * 6,\n",
    "                                      std=0.2).to(morl.DEVICE)\n",
    "        \n",
    "        out = morl.learn(policy=policy, \n",
    "                         gradient_steps=3000, \n",
    "                         n_grad_repeat=1, \n",
    "                         group_size_train=400, \n",
    "                         group_size_test=400, \n",
    "                         env=MinecartDeterministicEnv().set_normalizer(normalizer=NORM),\n",
    "                         n_obj=3, \n",
    "                         test_repeat=1, \n",
    "                         n_jobs=15, \n",
    "                         ep_len_train=100, \n",
    "                         ep_len_test=100, \n",
    "                         nn_k=3, \n",
    "                         beta=6.0, \n",
    "                         J_AU=J_au, \n",
    "                         J_U=J_au + 1.0, \n",
    "                         gamma_train=1.0, \n",
    "                         gamma_test=1.0, \n",
    "                         mode='maxmin', \n",
    "                         score_clipped_above_zero=True,\n",
    "                         use_QV=False, \n",
    "                         QV_params=None, \n",
    "                         test_run_is_deterministic=False,\n",
    "                         log_file='log_{}.txt'.format(i)\n",
    "                        )\n",
    "        if name is None:\n",
    "            with open('out_{}.pkl'.format(i), 'wb') as f:\n",
    "                pickle.dump(out, f)\n",
    "        else:\n",
    "            with open('out_{}_{}.pkl'.format(name, i), 'wb') as f:\n",
    "                pickle.dump(out, f)"
   ]
  },
  {
   "cell_type": "code",
   "execution_count": null,
   "id": "c9afa7a6",
   "metadata": {
    "tags": []
   },
   "outputs": [],
   "source": [
    "%%time\n",
    "main(c_dim=3, n_rep=5)"
   ]
  },
  {
   "cell_type": "code",
   "execution_count": null,
   "id": "92b3c290",
   "metadata": {},
   "outputs": [],
   "source": []
  },
  {
   "cell_type": "markdown",
   "id": "4d265fe8",
   "metadata": {},
   "source": [
    "# Evaluation"
   ]
  },
  {
   "cell_type": "code",
   "execution_count": 6,
   "id": "f0e4f55a",
   "metadata": {},
   "outputs": [],
   "source": [
    "outs = []\n",
    "for i in range(1, 6):\n",
    "    with open('out_{}.pkl'.format(i), 'rb') as f:\n",
    "        outs += [pickle.load(f)]"
   ]
  },
  {
   "cell_type": "code",
   "execution_count": 7,
   "id": "f32c897a",
   "metadata": {},
   "outputs": [],
   "source": [
    "seeds = []\n",
    "for i in range(5):\n",
    "    seeds += [np.argmax([x[1] for x in outs[i][0][0]])]"
   ]
  },
  {
   "cell_type": "code",
   "execution_count": 8,
   "id": "1632cf50",
   "metadata": {},
   "outputs": [
    {
     "data": {
      "text/plain": [
       "[2973, 2860, 2823, 2979, 2976]"
      ]
     },
     "execution_count": 8,
     "metadata": {},
     "output_type": "execute_result"
    }
   ],
   "source": [
    "seeds"
   ]
  },
  {
   "cell_type": "code",
   "execution_count": 8,
   "id": "cb6105d3",
   "metadata": {},
   "outputs": [],
   "source": [
    "# best policies\n",
    "_oo = [outs[i][2] for i in range(5)]"
   ]
  },
  {
   "cell_type": "code",
   "execution_count": 11,
   "id": "0e9c8f98",
   "metadata": {},
   "outputs": [
    {
     "name": "stdout",
     "output_type": "stream",
     "text": [
      "CPU times: user 51.3 s, sys: 2.25 s, total: 53.6 s\n",
      "Wall time: 7min 21s\n"
     ]
    }
   ],
   "source": [
    "%%time\n",
    "TEST_SIZE = 2000\n",
    "peak_hv = []\n",
    "Ts = []\n",
    "allRs = []\n",
    "for i in range(5):\n",
    "    cs, record = morl.group_evaluation_REPEAT(policy=_oo[i], \n",
    "                                              group_size=TEST_SIZE, \n",
    "                                              n_jobs=15, \n",
    "                                              env=MinecartDeterministicEnv().set_normalizer(normalizer=NORM)\\\n",
    "                                              .set_ep_len(1000), \n",
    "                                              seed=seeds[i], deterministic=True, n_obj=3, gamma=1.0, \n",
    "                                              n_episode_repeat=1, \n",
    "                                              return_T=True)\n",
    "    allRs += [[x[0] for x in record]]\n",
    "    Ts += [[x[1] for x in record]]\n",
    "    peak_hv += [morl.HV(Rs=np.array(allRs[-1]), ref_point=np.array([0., 0., -200.]))]"
   ]
  },
  {
   "cell_type": "code",
   "execution_count": 12,
   "id": "427fd459",
   "metadata": {},
   "outputs": [
    {
     "data": {
      "text/plain": [
       "(5, 2000, 3)"
      ]
     },
     "execution_count": 12,
     "metadata": {},
     "output_type": "execute_result"
    }
   ],
   "source": [
    "allRs = np.array(allRs)\n",
    "allRs.shape"
   ]
  },
  {
   "cell_type": "code",
   "execution_count": 14,
   "id": "283fe573",
   "metadata": {},
   "outputs": [],
   "source": [
    "with open('allRs.pkl', 'wb') as f:\n",
    "    pickle.dump(allRs, f)"
   ]
  },
  {
   "cell_type": "code",
   "execution_count": 13,
   "id": "ad02f642",
   "metadata": {},
   "outputs": [
    {
     "data": {
      "text/plain": [
       "(5, 2000)"
      ]
     },
     "execution_count": 13,
     "metadata": {},
     "output_type": "execute_result"
    }
   ],
   "source": [
    "Ts = np.array(Ts)\n",
    "Ts.shape"
   ]
  },
  {
   "cell_type": "code",
   "execution_count": 23,
   "id": "e10fd316",
   "metadata": {},
   "outputs": [],
   "source": [
    "with open('all_T.pkl', 'wb') as f:\n",
    "    pickle.dump(Ts, f)"
   ]
  },
  {
   "cell_type": "code",
   "execution_count": 23,
   "id": "52155a3b",
   "metadata": {},
   "outputs": [
    {
     "data": {
      "text/plain": [
       "[197.773123780988,\n",
       " 197.98105492284486,\n",
       " 198.34329529116545,\n",
       " 198.06902491626428,\n",
       " 198.70212914306123]"
      ]
     },
     "execution_count": 23,
     "metadata": {},
     "output_type": "execute_result"
    }
   ],
   "source": [
    "peak_hv"
   ]
  },
  {
   "cell_type": "code",
   "execution_count": 24,
   "id": "92702920",
   "metadata": {},
   "outputs": [
    {
     "data": {
      "text/plain": [
       "(198.17372561086478, 0.32141257750358276)"
      ]
     },
     "execution_count": 24,
     "metadata": {},
     "output_type": "execute_result"
    }
   ],
   "source": [
    "np.mean(peak_hv), np.std(peak_hv)"
   ]
  },
  {
   "cell_type": "code",
   "execution_count": null,
   "id": "f31c6aaa",
   "metadata": {},
   "outputs": [],
   "source": []
  },
  {
   "cell_type": "markdown",
   "id": "bb0917d1",
   "metadata": {},
   "source": [
    "# Learning curves"
   ]
  },
  {
   "cell_type": "code",
   "execution_count": 57,
   "id": "e7ad6a6b",
   "metadata": {},
   "outputs": [],
   "source": [
    "h_det = np.vstack([[x[1] for x in outs[i][0][0]] for i in range(5)])\n",
    "h_sto = np.vstack([[x[1] for x in outs[i][0][1]] for i in range(5)])"
   ]
  },
  {
   "cell_type": "code",
   "execution_count": 66,
   "id": "3edab8be",
   "metadata": {},
   "outputs": [
    {
     "data": {
      "text/plain": [
       "((5, 3001), (5, 3001))"
      ]
     },
     "execution_count": 66,
     "metadata": {},
     "output_type": "execute_result"
    }
   ],
   "source": [
    "h_det.shape, h_sto.shape"
   ]
  },
  {
   "cell_type": "code",
   "execution_count": 79,
   "id": "744b5671",
   "metadata": {},
   "outputs": [
    {
     "data": {
      "image/png": "[encoded data removed]",
      "text/plain": [
       "<Figure size 331.2x252 with 1 Axes>"
      ]
     },
     "metadata": {},
     "output_type": "display_data"
    }
   ],
   "source": [
    "plt.figure(figsize=(4.6, 3.5))\n",
    "#plt.xticks(np.arange(0, 501, 100))\n",
    "plt.ylim(0, 210)\n",
    "plt.tick_params(labelsize=16)\n",
    "plt.grid()\n",
    "plt.ylabel('HV', fontsize=16)\n",
    "plt.xlabel('Iteration', fontsize=16)\n",
    "\n",
    "w = 7\n",
    "plt.plot(mv_avg(h_det.mean(axis=0), w=w), c='r', lw=2.5, label='LC-MOPG')\n",
    "plt.fill_between(np.arange(3001 - w + 1), \n",
    "                 mv_avg(h_det.mean(axis=0) - h_det.std(axis=0), w=w), \n",
    "                 mv_avg(h_det.mean(axis=0) + h_det.std(axis=0), w=w),  \n",
    "                 alpha=0.2, color='r')\n",
    "\n",
    "plt.legend(fontsize=17)\n",
    "plt.tight_layout()\n",
    "# plt.savefig('learning_minecart.png', dpi=500)"
   ]
  },
  {
   "cell_type": "code",
   "execution_count": null,
   "id": "86a0a09b",
   "metadata": {},
   "outputs": [],
   "source": []
  },
  {
   "cell_type": "code",
   "execution_count": null,
   "id": "893c127c",
   "metadata": {},
   "outputs": [],
   "source": []
  }
 ],
 "metadata": {
  "kernelspec": {
   "display_name": "Python 3",
   "language": "python",
   "name": "python3"
  },
  "language_info": {
   "codemirror_mode": {
    "name": "ipython",
    "version": 3
   },
   "file_extension": ".py",
   "mimetype": "text/x-python",
   "name": "python",
   "nbconvert_exporter": "python",
   "pygments_lexer": "ipython3",
   "version": "3.8.8"
  }
 },
 "nbformat": 4,
 "nbformat_minor": 5
}
