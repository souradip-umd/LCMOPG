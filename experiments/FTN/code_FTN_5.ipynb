{
 "cells": [
  {
   "cell_type": "code",
   "execution_count": 1,
   "id": "670b7c67",
   "metadata": {},
   "outputs": [
    {
     "name": "stderr",
     "output_type": "stream",
     "text": [
      "<ipython-input-1-6d0fa4db7acd>:6: MatplotlibDeprecationWarning: The seaborn styles shipped by Matplotlib are deprecated since 3.6, as they no longer correspond to the styles shipped by seaborn. However, they will remain available as 'seaborn-v0_8-<style>'. Alternatively, directly use the seaborn API instead.\n",
      "  plt.style.use('seaborn-white')\n"
     ]
    }
   ],
   "source": [
    "import numpy as np\n",
    "np.set_printoptions(suppress=True)\n",
    "import matplotlib.pyplot as plt\n",
    "%matplotlib inline\n",
    "import pickle\n",
    "plt.style.use('seaborn-white')"
   ]
  },
  {
   "cell_type": "code",
   "execution_count": 2,
   "id": "2a5dbfa6",
   "metadata": {},
   "outputs": [],
   "source": [
    "import morl\n",
    "from env_FruitTree import FruitTree"
   ]
  },
  {
   "cell_type": "code",
   "execution_count": null,
   "id": "8334829d",
   "metadata": {},
   "outputs": [],
   "source": []
  },
  {
   "cell_type": "markdown",
   "id": "2bf2ff6d",
   "metadata": {},
   "source": [
    "use_B = False"
   ]
  },
  {
   "cell_type": "code",
   "execution_count": 28,
   "id": "6f10f722",
   "metadata": {},
   "outputs": [],
   "source": [
    "d_FTN = 5\n",
    "\n",
    "def main(n_rep: int):\n",
    "    for i in range(1, 1 + n_rep):\n",
    "        \n",
    "        np.random.seed(i)\n",
    "        \n",
    "        policy = morl.make_policy_net(state_dim=2, \n",
    "                                      hidden_dim=100, \n",
    "                                      act_space=('discrete', 2), \n",
    "                                      c_dim=5, \n",
    "                                      seed=i,\n",
    "                                      embed_dims=[10, 20]).to(morl.DEVICE)\n",
    "        \n",
    "        out = morl.learn(policy=policy, \n",
    "                         gradient_steps=20, \n",
    "                         n_grad_repeat=1, \n",
    "                         group_size_train=300, \n",
    "                         group_size_test=300, \n",
    "                         env=FruitTree(depth=d_FTN, noise_std=0.005, normalizer=lambda x: np.array([x[0]/d_FTN, x[1]/(2 ** x[0])])), \n",
    "                         n_obj=6, \n",
    "                         test_repeat=1, \n",
    "                         n_jobs=20, \n",
    "                         ep_len_train=np.inf, \n",
    "                         ep_len_test=np.inf, \n",
    "                         nn_k=3, \n",
    "                         beta=5.0, \n",
    "                         J_AU=np.zeros(6), \n",
    "                         J_U=np.zeros(6) + 1, \n",
    "                         gamma_train=0.99, \n",
    "                         gamma_test=0.99, \n",
    "                         mode='maxmin', \n",
    "                         score_clipped_above_zero=True,\n",
    "                         use_QV=False, \n",
    "                         QV_params=None\n",
    "                        )\n",
    "        with open('out_{}.pkl'.format(i), 'wb') as f:\n",
    "            pickle.dump(out, f)"
   ]
  },
  {
   "cell_type": "code",
   "execution_count": 29,
   "id": "a209add8",
   "metadata": {},
   "outputs": [
    {
     "name": "stdout",
     "output_type": "stream",
     "text": [
      "0 [6.921e+03] 1 [6.921e+03] 2 [6.624e+03] 3 [6.767e+03] 4 [6.914e+03] 5 [5.616e+03] 6 [6.921e+03] 7 [6.914e+03] 8 [6.921e+03] 9 [6.905e+03] 10 [6.921e+03] 11 [6.921e+03] 12 [6.921e+03] 13 [6.921e+03] 14 [6.921e+03] 15 [6.918e+03] 16 [6.921e+03] 17 [6.921e+03] 18 [6.646e+03] 19 [6.921e+03] 20 [6.914e+03] 0 [6.621e+03] 1 [6.616e+03] 2 [6.835e+03] 3 [6.464e+03] 4 [6.768e+03] 5 [6.921e+03] 6 [6.616e+03] 7 [6.921e+03] 8 [6.921e+03] 9 [6.768e+03] 10 [6.921e+03] 11 [6.921e+03] 12 [6.533e+03] 13 [6.921e+03] 14 [6.921e+03] 15 [6.914e+03] 16 [6.921e+03] 17 [6.921e+03] 18 [6.921e+03] 19 [6.921e+03] 20 [6.921e+03] 0 [6.774e+03] 1 [6.921e+03] 2 [6.921e+03] 3 [6.921e+03] 4 [6.768e+03] 5 [6.921e+03] 6 [6.921e+03] 7 [6.887e+03] 8 [6.921e+03] 9 [6.921e+03] 10 [6.739e+03] 11 [6.783e+03] 12 [6.921e+03] 13 [6.921e+03] 14 [6.739e+03] 15 [6.921e+03] 16 [6.921e+03] 17 [6.921e+03] 18 [6.768e+03] 19 [6.921e+03] 20 [6.921e+03] 0 [6.616e+03] 1 [6.768e+03] 2 [6.742e+03] 3 [6.921e+03] 4 [6.921e+03] 5 [6.921e+03] 6 [6.908e+03] 7 [6.768e+03] 8 [6.921e+03] 9 [6.921e+03] 10 [6.921e+03] 11 [6.616e+03] 12 [6.921e+03] 13 [6.921e+03] 14 [6.921e+03] 15 [6.921e+03] 16 [6.616e+03] 17 [6.921e+03] 18 [6.921e+03] 19 [6.921e+03] 20 [6.921e+03] 0 [6.732e+03] 1 [6.921e+03] 2 [6.921e+03] 3 [6.887e+03] 4 [6.914e+03] 5 [6.605e+03] 6 [6.921e+03] 7 [6.768e+03] 8 [6.921e+03] 9 [6.921e+03] 10 [6.894e+03] 11 [6.921e+03] 12 [6.921e+03] 13 [6.921e+03] 14 [6.921e+03] 17 [6.921e+03] 18 [6.921e+03] 19 [6.921e+03] 20 [6.921e+03] CPU times: user 19min 54s, sys: 7.37 s, total: 20min 2s\n",
      "Wall time: 20min 2s\n"
     ]
    }
   ],
   "source": [
    "%%time\n",
    "main(5)"
   ]
  },
  {
   "cell_type": "code",
   "execution_count": 30,
   "id": "a062846e",
   "metadata": {},
   "outputs": [],
   "source": [
    "outs = []\n",
    "for i in range(1, 6):\n",
    "    with open('out_{}.pkl'.format(i), 'rb') as f:\n",
    "        outs += [pickle.load(f)]"
   ]
  },
  {
   "cell_type": "code",
   "execution_count": 31,
   "id": "eb31bbe2",
   "metadata": {},
   "outputs": [
    {
     "data": {
      "text/plain": [
       "[6920.582043228271,\n",
       " 6920.582043228271,\n",
       " 6920.582043228271,\n",
       " 6920.582043228271,\n",
       " 6920.582043228271]"
      ]
     },
     "execution_count": 31,
     "metadata": {},
     "output_type": "execute_result"
    }
   ],
   "source": [
    "[np.max(outs[i][0]) for i in range(5)]"
   ]
  },
  {
   "cell_type": "code",
   "execution_count": 33,
   "id": "1e02df7d",
   "metadata": {},
   "outputs": [
    {
     "data": {
      "image/png": "[encoded data removed]",
      "text/plain": [
       "<Figure size 432x288 with 1 Axes>"
      ]
     },
     "metadata": {},
     "output_type": "display_data"
    }
   ],
   "source": [
    "for i in range(5):\n",
    "    plt.plot(outs[i][0])"
   ]
  },
  {
   "cell_type": "code",
   "execution_count": 34,
   "id": "ad1f4e99",
   "metadata": {},
   "outputs": [],
   "source": [
    "_o = np.asarray([outs[i][0] for i in range(5)])"
   ]
  },
  {
   "cell_type": "code",
   "execution_count": 38,
   "id": "844f800f",
   "metadata": {},
   "outputs": [
    {
     "data": {
      "image/png": "[encoded data removed]",
      "text/plain": [
       "<Figure size 331.2x252 with 1 Axes>"
      ]
     },
     "metadata": {},
     "output_type": "display_data"
    }
   ],
   "source": [
    "plt.figure(figsize=(4.6, 3.5))\n",
    "#plt.xlim(0, 15)\n",
    "plt.xticks([0, 5, 10, 15, 20])\n",
    "plt.tick_params(labelsize=16)\n",
    "plt.grid()\n",
    "plt.ylabel('HV', fontsize=16)\n",
    "plt.xlabel('Iteration', fontsize=16)\n",
    "plt.plot(_o.mean(axis=0), c='r', lw=2.5)\n",
    "plt.fill_between(np.arange(21), \n",
    "                 _o.mean(axis=0) - _o.std(axis=0), \n",
    "                 _o.mean(axis=0) + _o.std(axis=0), alpha=0.2, color='r')\n",
    "plt.tight_layout()\n",
    "# plt.savefig('learning_fruit_5.png', dpi=400)"
   ]
  },
  {
   "cell_type": "code",
   "execution_count": null,
   "id": "5b3af2bd",
   "metadata": {},
   "outputs": [],
   "source": []
  },
  {
   "cell_type": "code",
   "execution_count": null,
   "id": "dcf41d36",
   "metadata": {},
   "outputs": [],
   "source": []
  },
  {
   "cell_type": "code",
   "execution_count": null,
   "id": "64574218",
   "metadata": {},
   "outputs": [],
   "source": []
  },
  {
   "cell_type": "code",
   "execution_count": null,
   "id": "7c45319a",
   "metadata": {},
   "outputs": [],
   "source": []
  },
  {
   "cell_type": "code",
   "execution_count": null,
   "id": "6081aa64",
   "metadata": {},
   "outputs": [],
   "source": []
  },
  {
   "cell_type": "code",
   "execution_count": null,
   "id": "53b46cef",
   "metadata": {},
   "outputs": [],
   "source": []
  },
  {
   "cell_type": "code",
   "execution_count": null,
   "id": "99d5714d",
   "metadata": {},
   "outputs": [],
   "source": []
  },
  {
   "cell_type": "code",
   "execution_count": null,
   "id": "c66fd16c",
   "metadata": {},
   "outputs": [],
   "source": []
  },
  {
   "cell_type": "code",
   "execution_count": null,
   "id": "61abe9cf",
   "metadata": {},
   "outputs": [],
   "source": []
  },
  {
   "cell_type": "code",
   "execution_count": null,
   "id": "7d5d684e",
   "metadata": {},
   "outputs": [],
   "source": []
  },
  {
   "cell_type": "code",
   "execution_count": null,
   "id": "74015b6a",
   "metadata": {},
   "outputs": [],
   "source": []
  },
  {
   "cell_type": "code",
   "execution_count": null,
   "id": "af95d0f0",
   "metadata": {},
   "outputs": [],
   "source": []
  },
  {
   "cell_type": "code",
   "execution_count": null,
   "id": "fc2d8fcc",
   "metadata": {},
   "outputs": [],
   "source": []
  },
  {
   "cell_type": "code",
   "execution_count": null,
   "id": "f4324ed8",
   "metadata": {},
   "outputs": [],
   "source": []
  },
  {
   "cell_type": "code",
   "execution_count": null,
   "id": "df9969b7",
   "metadata": {},
   "outputs": [],
   "source": []
  },
  {
   "cell_type": "code",
   "execution_count": null,
   "id": "df6d0b85",
   "metadata": {},
   "outputs": [],
   "source": []
  },
  {
   "cell_type": "code",
   "execution_count": null,
   "id": "de97d713",
   "metadata": {},
   "outputs": [],
   "source": []
  },
  {
   "cell_type": "code",
   "execution_count": null,
   "id": "b7ec4470",
   "metadata": {},
   "outputs": [],
   "source": []
  },
  {
   "cell_type": "code",
   "execution_count": null,
   "id": "9c0a37b6",
   "metadata": {},
   "outputs": [],
   "source": []
  },
  {
   "cell_type": "code",
   "execution_count": null,
   "id": "1165b451",
   "metadata": {},
   "outputs": [],
   "source": []
  },
  {
   "cell_type": "code",
   "execution_count": null,
   "id": "cdbe8bc8",
   "metadata": {},
   "outputs": [],
   "source": []
  },
  {
   "cell_type": "code",
   "execution_count": null,
   "id": "27751d95",
   "metadata": {},
   "outputs": [],
   "source": []
  },
  {
   "cell_type": "code",
   "execution_count": null,
   "id": "41ab953c",
   "metadata": {},
   "outputs": [],
   "source": []
  },
  {
   "cell_type": "code",
   "execution_count": null,
   "id": "1c2d9180",
   "metadata": {},
   "outputs": [],
   "source": []
  },
  {
   "cell_type": "code",
   "execution_count": null,
   "id": "c001b981",
   "metadata": {},
   "outputs": [],
   "source": []
  }
 ],
 "metadata": {
  "kernelspec": {
   "display_name": "Python 3",
   "language": "python",
   "name": "python3"
  },
  "language_info": {
   "codemirror_mode": {
    "name": "ipython",
    "version": 3
   },
   "file_extension": ".py",
   "mimetype": "text/x-python",
   "name": "python",
   "nbconvert_exporter": "python",
   "pygments_lexer": "ipython3",
   "version": "3.8.8"
  }
 },
 "nbformat": 4,
 "nbformat_minor": 5
}
