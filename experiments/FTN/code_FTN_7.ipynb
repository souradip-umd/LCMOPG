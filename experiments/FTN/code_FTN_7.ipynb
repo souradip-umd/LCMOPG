{
 "cells": [
  {
   "cell_type": "code",
   "execution_count": 1,
   "id": "e2a0ff0b",
   "metadata": {},
   "outputs": [
    {
     "name": "stderr",
     "output_type": "stream",
     "text": [
      "<ipython-input-1-6d0fa4db7acd>:6: MatplotlibDeprecationWarning: The seaborn styles shipped by Matplotlib are deprecated since 3.6, as they no longer correspond to the styles shipped by seaborn. However, they will remain available as 'seaborn-v0_8-<style>'. Alternatively, directly use the seaborn API instead.\n",
      "  plt.style.use('seaborn-white')\n"
     ]
    }
   ],
   "source": [
    "import numpy as np\n",
    "np.set_printoptions(suppress=True)\n",
    "import matplotlib.pyplot as plt\n",
    "%matplotlib inline\n",
    "import pickle\n",
    "plt.style.use('seaborn-white')"
   ]
  },
  {
   "cell_type": "code",
   "execution_count": 2,
   "id": "5d5d2a1c",
   "metadata": {},
   "outputs": [],
   "source": [
    "import morl\n",
    "from env_FruitTree import FruitTree"
   ]
  },
  {
   "cell_type": "code",
   "execution_count": null,
   "id": "3aa4ad9e",
   "metadata": {},
   "outputs": [],
   "source": []
  },
  {
   "cell_type": "markdown",
   "id": "ef4281bd",
   "metadata": {},
   "source": [
    "use_B = False"
   ]
  },
  {
   "cell_type": "code",
   "execution_count": 16,
   "id": "49a47bbb",
   "metadata": {},
   "outputs": [],
   "source": [
    "d_FTN = 7\n",
    "\n",
    "def main(n_rep: int):\n",
    "    for i in range(1, 1 + n_rep):\n",
    "        \n",
    "        np.random.seed(i)\n",
    "        \n",
    "        policy = morl.make_policy_net(state_dim=2, \n",
    "                                      hidden_dim=210, \n",
    "                                      act_space=('discrete', 2), \n",
    "                                      c_dim=7, \n",
    "                                      seed=i,\n",
    "                                      embed_dims=[10, 10], \n",
    "                                      std=0.2).to(morl.DEVICE)\n",
    "        \n",
    "        out = morl.learn(policy=policy, \n",
    "                         gradient_steps=20, \n",
    "                         n_grad_repeat=1, \n",
    "                         group_size_train=400, \n",
    "                         group_size_test=400, \n",
    "                         env=FruitTree(depth=d_FTN, noise_std=0.003, normalizer=lambda x: np.array([x[0]/d_FTN, x[1]/(2 ** x[0])])), \n",
    "                         n_obj=6, \n",
    "                         test_repeat=1, \n",
    "                         n_jobs=20, \n",
    "                         ep_len_train=np.inf, \n",
    "                         ep_len_test=np.inf, \n",
    "                         nn_k=10, \n",
    "                         beta=10.0, \n",
    "                         J_AU=np.zeros(6), \n",
    "                         J_U=np.zeros(6) + 1, \n",
    "                         gamma_train=0.99, \n",
    "                         gamma_test=0.99, \n",
    "                         mode='maxmin', \n",
    "                         score_clipped_above_zero=True,\n",
    "                         use_QV=False, \n",
    "                         QV_params=None\n",
    "                        )\n",
    "        with open('out_{}.pkl'.format(i), 'wb') as f:\n",
    "            pickle.dump(out, f)"
   ]
  },
  {
   "cell_type": "code",
   "execution_count": null,
   "id": "1ca01eea",
   "metadata": {},
   "outputs": [],
   "source": [
    "%%time\n",
    "main(5)"
   ]
  },
  {
   "cell_type": "code",
   "execution_count": 2,
   "id": "22bfca3b",
   "metadata": {},
   "outputs": [],
   "source": [
    "outs = []\n",
    "for i in range(1, 6):\n",
    "    with open('out_{}.pkl'.format(i), 'rb') as f:\n",
    "        outs += [pickle.load(f)]"
   ]
  },
  {
   "cell_type": "code",
   "execution_count": 19,
   "id": "319e0c02",
   "metadata": {},
   "outputs": [
    {
     "data": {
      "text/plain": [
       "[11990.90525216103,\n",
       " 11920.667204969463,\n",
       " 11838.4405636401,\n",
       " 12006.516465626173,\n",
       " 11968.066904566664]"
      ]
     },
     "execution_count": 19,
     "metadata": {},
     "output_type": "execute_result"
    }
   ],
   "source": [
    "[np.max(outs[i][0]) for i in range(5)]"
   ]
  },
  {
   "cell_type": "code",
   "execution_count": 20,
   "id": "7264e33f",
   "metadata": {},
   "outputs": [
    {
     "data": {
      "text/plain": [
       "11944.919278192687"
      ]
     },
     "execution_count": 20,
     "metadata": {},
     "output_type": "execute_result"
    }
   ],
   "source": [
    "np.mean([np.max(outs[i][0]) for i in range(5)])"
   ]
  },
  {
   "cell_type": "code",
   "execution_count": 21,
   "id": "efb3470b",
   "metadata": {},
   "outputs": [
    {
     "data": {
      "image/png": "[encoded data removed]",
      "text/plain": [
       "<Figure size 432x288 with 1 Axes>"
      ]
     },
     "metadata": {},
     "output_type": "display_data"
    }
   ],
   "source": [
    "for i in range(5):\n",
    "    plt.plot(outs[i][0])"
   ]
  },
  {
   "cell_type": "code",
   "execution_count": 3,
   "id": "32fcc360",
   "metadata": {},
   "outputs": [],
   "source": [
    "_o = np.asarray([outs[i][0] for i in range(5)])"
   ]
  },
  {
   "cell_type": "code",
   "execution_count": 6,
   "id": "5f61dc43",
   "metadata": {},
   "outputs": [
    {
     "data": {
      "image/png": "[encoded data removed]",
      "text/plain": [
       "<Figure size 331.2x252 with 1 Axes>"
      ]
     },
     "metadata": {},
     "output_type": "display_data"
    }
   ],
   "source": [
    "plt.figure(figsize=(4.6, 3.5))\n",
    "#plt.xlim(0, 15)\n",
    "plt.xticks([0, 5, 10, 15, 20])\n",
    "plt.tick_params(labelsize=16)\n",
    "plt.grid()\n",
    "plt.ylabel('HV', fontsize=16)\n",
    "plt.xlabel('Iteration', fontsize=16)\n",
    "plt.plot(_o.mean(axis=0), c='r', lw=2.5)\n",
    "plt.fill_between(np.arange(21), \n",
    "                 _o.mean(axis=0) - _o.std(axis=0), \n",
    "                 _o.mean(axis=0) + _o.std(axis=0), alpha=0.2, color='r')\n",
    "plt.tight_layout()\n",
    "# plt.savefig('learning_fruit_{}.png'.format(d_FTN), dpi=400)"
   ]
  },
  {
   "cell_type": "code",
   "execution_count": null,
   "id": "e976a3b9",
   "metadata": {},
   "outputs": [],
   "source": []
  },
  {
   "cell_type": "code",
   "execution_count": 26,
   "id": "a10f78a4",
   "metadata": {},
   "outputs": [
    {
     "name": "stdout",
     "output_type": "stream",
     "text": [
      "0 12302.337559353933\n",
      "1 12302.337559353933\n",
      "2 12302.337559353933\n",
      "3 12245.296886471344\n",
      "4 12302.337559353933\n",
      "CPU times: user 2h 53min 16s, sys: 15.6 s, total: 2h 53min 31s\n",
      "Wall time: 2h 53min 33s\n"
     ]
    }
   ],
   "source": [
    "%%time\n",
    "TEST_SIZE = 1500\n",
    "for i in range(5):\n",
    "    cs, all_R = morl.group_evaluation_REPEAT(policy=outs[0][2], group_size=TEST_SIZE, n_jobs=20, \n",
    "                                             env=FruitTree(depth=d_FTN, noise_std=0.003, \n",
    "                                                           normalizer=lambda x: np.array([x[0]/d_FTN, x[1]/(2 ** x[0])])).set_ep_len(np.inf), \n",
    "                                             seed=1, deterministic=True, n_obj=6, gamma=0.99, \n",
    "                                             n_episode_repeat=1)\n",
    "    print(i, morl.HV(Rs=np.asarray(all_R), ref_point=np.zeros(6)))"
   ]
  },
  {
   "cell_type": "code",
   "execution_count": 27,
   "id": "9aa20ed7",
   "metadata": {},
   "outputs": [],
   "source": [
    "num = np.array([12302.337559353933, \n",
    "                12302.337559353933, \n",
    "                12302.337559353933,\n",
    "                12245.296886471344,\n",
    "                12302.337559353933])"
   ]
  },
  {
   "cell_type": "code",
   "execution_count": 28,
   "id": "c4a8290b",
   "metadata": {},
   "outputs": [
    {
     "data": {
      "text/plain": [
       "(12290.929424777416, 22.816269153035684)"
      ]
     },
     "execution_count": 28,
     "metadata": {},
     "output_type": "execute_result"
    }
   ],
   "source": [
    "num.mean(), num.std()"
   ]
  },
  {
   "cell_type": "code",
   "execution_count": null,
   "id": "289829f6",
   "metadata": {},
   "outputs": [],
   "source": []
  },
  {
   "cell_type": "code",
   "execution_count": null,
   "id": "1c69bfeb",
   "metadata": {},
   "outputs": [],
   "source": []
  },
  {
   "cell_type": "code",
   "execution_count": null,
   "id": "53d53bcc",
   "metadata": {},
   "outputs": [],
   "source": []
  },
  {
   "cell_type": "code",
   "execution_count": null,
   "id": "a5e49064",
   "metadata": {},
   "outputs": [],
   "source": []
  },
  {
   "cell_type": "code",
   "execution_count": null,
   "id": "aefa1847",
   "metadata": {},
   "outputs": [],
   "source": []
  },
  {
   "cell_type": "code",
   "execution_count": null,
   "id": "7ddc0021",
   "metadata": {},
   "outputs": [],
   "source": []
  },
  {
   "cell_type": "code",
   "execution_count": null,
   "id": "93f32e0a",
   "metadata": {},
   "outputs": [],
   "source": []
  },
  {
   "cell_type": "code",
   "execution_count": null,
   "id": "721f7181",
   "metadata": {},
   "outputs": [],
   "source": []
  },
  {
   "cell_type": "code",
   "execution_count": null,
   "id": "4a7605b0",
   "metadata": {},
   "outputs": [],
   "source": []
  },
  {
   "cell_type": "code",
   "execution_count": null,
   "id": "b72e2abf",
   "metadata": {},
   "outputs": [],
   "source": []
  },
  {
   "cell_type": "code",
   "execution_count": null,
   "id": "79bfaedb",
   "metadata": {},
   "outputs": [],
   "source": []
  },
  {
   "cell_type": "code",
   "execution_count": null,
   "id": "212d1cb7",
   "metadata": {},
   "outputs": [],
   "source": []
  },
  {
   "cell_type": "code",
   "execution_count": null,
   "id": "987aba90",
   "metadata": {},
   "outputs": [],
   "source": []
  },
  {
   "cell_type": "code",
   "execution_count": null,
   "id": "7f36f3cb",
   "metadata": {},
   "outputs": [],
   "source": []
  },
  {
   "cell_type": "code",
   "execution_count": null,
   "id": "add26b83",
   "metadata": {},
   "outputs": [],
   "source": []
  },
  {
   "cell_type": "code",
   "execution_count": null,
   "id": "0d56ceaf",
   "metadata": {},
   "outputs": [],
   "source": []
  },
  {
   "cell_type": "code",
   "execution_count": null,
   "id": "3118e0ec",
   "metadata": {},
   "outputs": [],
   "source": []
  },
  {
   "cell_type": "code",
   "execution_count": null,
   "id": "eeee4c3a",
   "metadata": {},
   "outputs": [],
   "source": []
  },
  {
   "cell_type": "code",
   "execution_count": null,
   "id": "0e94c9f1",
   "metadata": {},
   "outputs": [],
   "source": []
  },
  {
   "cell_type": "code",
   "execution_count": null,
   "id": "cc653339",
   "metadata": {},
   "outputs": [],
   "source": []
  }
 ],
 "metadata": {
  "kernelspec": {
   "display_name": "Python 3",
   "language": "python",
   "name": "python3"
  },
  "language_info": {
   "codemirror_mode": {
    "name": "ipython",
    "version": 3
   },
   "file_extension": ".py",
   "mimetype": "text/x-python",
   "name": "python",
   "nbconvert_exporter": "python",
   "pygments_lexer": "ipython3",
   "version": "3.8.8"
  }
 },
 "nbformat": 4,
 "nbformat_minor": 5
}
